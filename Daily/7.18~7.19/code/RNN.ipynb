{
 "cells": [
  {
   "cell_type": "code",
   "execution_count": 22,
   "id": "56b5d507",
   "metadata": {},
   "outputs": [
    {
     "data": {
      "text/plain": [
       "tensor([[[-0.8920,  0.9633, -0.1245],\n",
       "         [ 0.5272,  0.4682,  1.5131],\n",
       "         [ 0.6785, -0.4134,  0.2082],\n",
       "         [ 1.2367, -0.0935, -1.4511],\n",
       "         [ 0.0094,  1.8685, -0.7099]],\n",
       "\n",
       "        [[-1.6764, -0.0644, -0.5363],\n",
       "         [-0.6172,  1.2719,  0.5550],\n",
       "         [ 0.6320, -1.0125,  0.5901],\n",
       "         [ 0.2336,  0.7956,  0.1844],\n",
       "         [ 1.1883,  1.9161,  0.8269]]])"
      ]
     },
     "execution_count": 22,
     "metadata": {},
     "output_type": "execute_result"
    }
   ],
   "source": [
    "import torch\n",
    "import torch.nn as nn\n",
    "\n",
    "# API\n",
    "# 单向、单层\n",
    "single_rnn = nn.RNN(3, 4, 1, batch_first = True) \n",
    "input = torch.randn(2, 5, 3)  # bs sl fs\n",
    "input"
   ]
  },
  {
   "cell_type": "code",
   "execution_count": 23,
   "id": "e3669b97",
   "metadata": {},
   "outputs": [],
   "source": [
    "output, h_n = single_rnn(input)  # h_n是最后一次的输出"
   ]
  },
  {
   "cell_type": "code",
   "execution_count": 24,
   "id": "e792a6b7",
   "metadata": {},
   "outputs": [
    {
     "data": {
      "text/plain": [
       "tensor([[[ 0.4649, -0.5171,  0.0392, -0.8911],\n",
       "         [ 0.1194, -0.1062, -0.3846, -0.0590],\n",
       "         [-0.6075,  0.4019, -0.7106, -0.3793],\n",
       "         [-0.4544,  0.7876, -0.7620, -0.7185],\n",
       "         [ 0.7835,  0.0475, -0.0622, -0.9318]],\n",
       "\n",
       "        [[ 0.1549, -0.5887, -0.1472, -0.8536],\n",
       "         [ 0.6031, -0.4735, -0.0357, -0.7610],\n",
       "         [-0.6661,  0.3441, -0.6848,  0.2250],\n",
       "         [ 0.1097,  0.1363, -0.6194, -0.8001],\n",
       "         [ 0.5773,  0.2415, -0.2417, -0.7165]]], grad_fn=<TransposeBackward1>)"
      ]
     },
     "execution_count": 24,
     "metadata": {},
     "output_type": "execute_result"
    }
   ],
   "source": [
    "output"
   ]
  },
  {
   "cell_type": "code",
   "execution_count": 26,
   "id": "3ae5ed03",
   "metadata": {},
   "outputs": [
    {
     "data": {
      "text/plain": [
       "tensor([[[ 0.7835,  0.0475, -0.0622, -0.9318],\n",
       "         [ 0.5773,  0.2415, -0.2417, -0.7165]]], grad_fn=<StackBackward0>)"
      ]
     },
     "execution_count": 26,
     "metadata": {},
     "output_type": "execute_result"
    }
   ],
   "source": [
    "h_n"
   ]
  },
  {
   "cell_type": "code",
   "execution_count": 37,
   "id": "8d389ac5",
   "metadata": {},
   "outputs": [
    {
     "data": {
      "text/plain": [
       "tensor([[[ 0.1779, -1.2328, -1.2820],\n",
       "         [ 0.2657,  1.6019,  0.6330],\n",
       "         [ 0.6776,  0.3896, -0.2637],\n",
       "         [ 0.3944, -0.5108,  0.0258]]])"
      ]
     },
     "execution_count": 37,
     "metadata": {},
     "output_type": "execute_result"
    }
   ],
   "source": [
    "input_1 = torch.randn(1, 4, 3)  # bs sl fs\n",
    "input_1"
   ]
  },
  {
   "cell_type": "code",
   "execution_count": 38,
   "id": "a1ddd2e6",
   "metadata": {},
   "outputs": [],
   "source": [
    "# 双向、单层\n",
    "bidirectional_rnn = nn.RNN(3, 4, 1, batch_first=True, bidirectional=True)\n",
    "output_1, h_1 = bidirectional_rnn(input_1)"
   ]
  },
  {
   "cell_type": "code",
   "execution_count": 39,
   "id": "42be0556",
   "metadata": {},
   "outputs": [
    {
     "data": {
      "text/plain": [
       "tensor([[[ 0.4250, -0.3968, -0.7336, -0.5059,  0.4606, -0.9172,  0.0283,\n",
       "          -0.4111],\n",
       "         [-0.8447,  0.4888, -0.2943,  0.0176, -0.3975, -0.3857,  0.3244,\n",
       "          -0.0885],\n",
       "         [-0.0768, -0.5147, -0.1021, -0.6052, -0.2393, -0.6053,  0.3922,\n",
       "          -0.1365],\n",
       "         [-0.1766,  0.0440, -0.5316, -0.6787,  0.1186, -0.7335,  0.0381,\n",
       "          -0.3112]]], grad_fn=<TransposeBackward1>)"
      ]
     },
     "execution_count": 39,
     "metadata": {},
     "output_type": "execute_result"
    }
   ],
   "source": [
    "output_1  # 双向的原因把前后的都加起来了"
   ]
  },
  {
   "cell_type": "code",
   "execution_count": 40,
   "id": "a09ca5ae",
   "metadata": {},
   "outputs": [
    {
     "data": {
      "text/plain": [
       "tensor([[[-0.1766,  0.0440, -0.5316, -0.6787]],\n",
       "\n",
       "        [[ 0.4606, -0.9172,  0.0283, -0.4111]]], grad_fn=<StackBackward0>)"
      ]
     },
     "execution_count": 40,
     "metadata": {},
     "output_type": "execute_result"
    }
   ],
   "source": [
    "h_1"
   ]
  },
  {
   "cell_type": "code",
   "execution_count": 42,
   "id": "5c5136e4",
   "metadata": {},
   "outputs": [],
   "source": [
    "# 自己实现\n",
    "\n",
    "bs, T = 2, 3  # batch_size, 序列长度\n",
    "input_size, hidden_size = 2, 3  # 输入特征大小，隐藏层特征大小即后面输出的列数\n",
    "input = torch.randn(bs, T, input_size)\n",
    "h_prev = torch.zeros(bs, hidden_size)"
   ]
  },
  {
   "cell_type": "code",
   "execution_count": 95,
   "id": "396b4405",
   "metadata": {},
   "outputs": [],
   "source": [
    "rnn = nn.RNN(input_size, hidden_size, batch_first=True)\n",
    "rnn_output, state_final = rnn(input, h_prev.unsqueeze(0))"
   ]
  },
  {
   "cell_type": "code",
   "execution_count": 121,
   "id": "bff2e6d6",
   "metadata": {},
   "outputs": [],
   "source": [
    "def rnn_forward(intput, weight_ih, weight_hh, bias_ih, bias_hh, h_prev):\n",
    "    bs, T, input_size = input.shape\n",
    "    h_dim = weight_ih.shape[0]  # 隐藏层特征大小即后面输出的列数\n",
    "    h_out = torch.zeros(bs, T, h_dim)  # 存储最后的输出结果\n",
    "    \n",
    "    for t in range(T):\n",
    "        x = input[:, t, :].unsqueeze(2)  # 多增加一个维度才能进行计算 bs input_size 1\n",
    "        w_ih_batch = weight_ih.unsqueeze(0).tile(bs, 1, 1)  # 增加batch维度 bs h_dim input_size\n",
    "        w_hh_batch = weight_hh.unsqueeze(0).tile(bs, 1, 1)  # bs h_dim h_dim\n",
    "        \n",
    "        w_times_x = torch.bmm(w_ih_batch, x).squeeze(-1) # 不用管batch的维度进行矩阵乘法 bs h_dim\n",
    "        w_times_h = torch.bmm(w_hh_batch, h_prev.unsqueeze(2)).squeeze(-1) # 减少一个维度使得成行排列 bs h_dim\n",
    "        h_prev = torch.tanh(w_times_x + bias_ih + w_times_h + bias_hh)\n",
    "        \n",
    "        h_out[:, t, :] = h_prev  # 写入每行数据\n",
    "    return h_out, h_prev.unsqueeze(0)  # 见下图知增加一维\n",
    "output_1, final_1 = rnn_forward(input, rnn.weight_ih_l0, rnn.weight_hh_l0, rnn.bias_ih_l0, rnn.bias_hh_l0, h_prev)       "
   ]
  },
  {
   "cell_type": "markdown",
   "id": "800fc58b",
   "metadata": {},
   "source": [
    "\n",
    "![](https://shangxueweilong.oss-cn-guangzhou.aliyuncs.com/20230719192451.png)\n"
   ]
  },
  {
   "cell_type": "code",
   "execution_count": 136,
   "id": "ec274a75",
   "metadata": {},
   "outputs": [
    {
     "name": "stdout",
     "output_type": "stream",
     "text": [
      "mine：\n",
      "tensor([[[ 0.5016, -0.2810, -0.0158],\n",
      "         [ 0.6392, -0.5014,  0.1027],\n",
      "         [ 0.3720, -0.2385, -0.0537]],\n",
      "\n",
      "        [[ 0.6046, -0.3930, -0.0417],\n",
      "         [ 0.1861,  0.1639, -0.4590],\n",
      "         [ 0.9104, -0.7714,  0.0761]]], grad_fn=<CopySlices>) tensor([[[ 0.3720, -0.2385, -0.0537],\n",
      "         [ 0.9104, -0.7714,  0.0761]]], grad_fn=<UnsqueezeBackward0>)\n",
      "####################################################################################################\n",
      "API：\n",
      "tensor([[[ 0.5016, -0.2810, -0.0158],\n",
      "         [ 0.6392, -0.5014,  0.1027],\n",
      "         [ 0.3720, -0.2385, -0.0537]],\n",
      "\n",
      "        [[ 0.6046, -0.3930, -0.0417],\n",
      "         [ 0.1861,  0.1639, -0.4590],\n",
      "         [ 0.9104, -0.7714,  0.0761]]], grad_fn=<TransposeBackward1>) tensor([[[ 0.3720, -0.2385, -0.0537],\n",
      "         [ 0.9104, -0.7714,  0.0761]]], grad_fn=<StackBackward0>)\n"
     ]
    }
   ],
   "source": [
    "# 验证准确性\n",
    "print(\"mine：\")\n",
    "print(output_1, final_1)\n",
    "print(\"#\"*100)\n",
    "print(\"API：\")\n",
    "print(rnn_output, state_final)"
   ]
  },
  {
   "cell_type": "code",
   "execution_count": null,
   "id": "0daa3f67",
   "metadata": {},
   "outputs": [],
   "source": []
  }
 ],
 "metadata": {
  "kernelspec": {
   "display_name": "Python 3 (ipykernel)",
   "language": "python",
   "name": "python3"
  },
  "language_info": {
   "codemirror_mode": {
    "name": "ipython",
    "version": 3
   },
   "file_extension": ".py",
   "mimetype": "text/x-python",
   "name": "python",
   "nbconvert_exporter": "python",
   "pygments_lexer": "ipython3",
   "version": "3.9.13"
  }
 },
 "nbformat": 4,
 "nbformat_minor": 5
}
